{
  "nbformat": 4,
  "nbformat_minor": 0,
  "metadata": {
    "colab": {
      "name": "week1_assignment.ipynb",
      "provenance": [],
      "authorship_tag": "ABX9TyPdmmuXd9q8xAicccOuPgRX",
      "include_colab_link": true
    },
    "kernelspec": {
      "name": "python3",
      "display_name": "Python 3"
    }
  },
  "cells": [
    {
      "cell_type": "markdown",
      "metadata": {
        "id": "view-in-github",
        "colab_type": "text"
      },
      "source": [
        "<a href=\"https://colab.research.google.com/github/djsahu/IBM-Data-Science-Professional-Certificate/blob/master/week1_assignment.ipynb\" target=\"_parent\"><img src=\"https://colab.research.google.com/assets/colab-badge.svg\" alt=\"Open In Colab\"/></a>"
      ]
    },
    {
      "cell_type": "markdown",
      "metadata": {
        "id": "F2ocftUjUSCe",
        "colab_type": "text"
      },
      "source": [
        "#### This jupyter notebook is used for the IBM Data Science Capstone Project"
      ]
    },
    {
      "cell_type": "code",
      "metadata": {
        "id": "PmvhMh4NUcpy",
        "colab_type": "code",
        "colab": {
          "base_uri": "https://localhost:8080/",
          "height": 34
        },
        "outputId": "9384c2a8-2b94-4186-914a-23ec6b649c74"
      },
      "source": [
        "import pandas as pd\n",
        "import numpy as np\n",
        "print(\"Hello Capstone Project Course!\")"
      ],
      "execution_count": 1,
      "outputs": [
        {
          "output_type": "stream",
          "text": [
            "Hello Capstone Project Course!\n"
          ],
          "name": "stdout"
        }
      ]
    }
  ]
}